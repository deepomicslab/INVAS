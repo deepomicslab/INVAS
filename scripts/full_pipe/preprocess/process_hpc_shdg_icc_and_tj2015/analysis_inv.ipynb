{
 "cells": [
  {
   "cell_type": "code",
   "execution_count": null,
   "metadata": {},
   "outputs": [],
   "source": [
    "samples_file=\"/run/media/wangxuedong/One Touch1/virus_rna/ShangHai_GanDan_ICC/samples.txt\"\n",
    "samples=[]\n",
    "with open(samples_file) as f:\n",
    "    for line in f:\n",
    "        samples.append(line.strip())\n",
    "print(samples)"
   ]
  },
  {
   "cell_type": "code",
   "execution_count": null,
   "metadata": {},
   "outputs": [],
   "source": [
    "def parse_inv_in_genes(f):\n",
    "    genes=set()\n",
    "    with open(f) as f:\n",
    "        for line in f:\n",
    "            items=line.strip().split(\"\\t\")\n",
    "            genes.add(items[6])\n",
    "    return genes"
   ]
  },
  {
   "cell_type": "code",
   "execution_count": null,
   "metadata": {},
   "outputs": [],
   "source": [
    "import os\n",
    "res_dir=\"/run/media/wangxuedong/One Touch1/virus_rna/ShangHai_GanDan_ICC/res/\"\n",
    "chroms=[\"chr\"+str(i) for i in range(1,23)]+[\"chrX\",\"chrY\"]\n",
    "target_genes=set()\n",
    "delly_target_genes=set()\n",
    "manta_target_genes=set()\n",
    "gene_sample_dict={}\n",
    "for sample in samples:\n",
    "    sample_dir=res_dir+sample\n",
    "    delly_dir=sample_dir+\"/delly\"\n",
    "    manta_dir=sample_dir+\"/manta\"\n",
    "    ## check if chr*_inv_in_gene.bed exit and not empty\n",
    "    for chrom in chroms:\n",
    "        inv_in_gene_file=delly_dir+\"/\"+chrom+\"_inv_in_gene.bed\"\n",
    "        if os.path.exists(inv_in_gene_file):\n",
    "            if os.path.getsize(inv_in_gene_file)>0:\n",
    "                target_genes.update(parse_inv_in_genes(inv_in_gene_file))\n",
    "                delly_target_genes.update(parse_inv_in_genes(inv_in_gene_file))\n",
    "        inv_in_gene_file=manta_dir+\"/\"+chrom+\"_inv_in_gene.bed\"\n",
    "        if os.path.exists(inv_in_gene_file):\n",
    "            if os.path.getsize(inv_in_gene_file)>0:\n",
    "                target_genes.update(parse_inv_in_genes(inv_in_gene_file))\n",
    "                manta_target_genes.update(parse_inv_in_genes(inv_in_gene_file))\n",
    "    ## update gene_sample_dict\n",
    "    for gene in target_genes:\n",
    "        if gene not in gene_sample_dict:\n",
    "            gene_sample_dict[gene]=set()\n",
    "        gene_sample_dict[gene].add(sample)  \n",
    "print(target_genes)\n",
    "print(delly_target_genes)\n",
    "print(manta_target_genes)\n"
   ]
  },
  {
   "cell_type": "code",
   "execution_count": null,
   "metadata": {},
   "outputs": [],
   "source": [
    "common_genes=delly_target_genes.intersection(manta_target_genes)\n",
    "print(common_genes)\n",
    "print(len(common_genes))"
   ]
  },
  {
   "cell_type": "code",
   "execution_count": null,
   "metadata": {},
   "outputs": [],
   "source": [
    "# print gene_sample_dict\n",
    "for gene in common_genes:\n",
    "    print(gene+\"\\t\"+\",\".join(gene_sample_dict[gene]))"
   ]
  }
 ],
 "metadata": {
  "language_info": {
   "name": "python"
  }
 },
 "nbformat": 4,
 "nbformat_minor": 2
}
